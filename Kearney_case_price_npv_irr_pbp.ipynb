{
 "cells": [
  {
   "cell_type": "markdown",
   "metadata": {},
   "source": [
    "# Прогноз цен на карбамид и аммиак 2021-2050"
   ]
  },
  {
   "cell_type": "markdown",
   "metadata": {},
   "source": [
    "Импортируем необходимые для анализа и визуализации библиотеки"
   ]
  },
  {
   "cell_type": "code",
   "execution_count": 7,
   "metadata": {},
   "outputs": [],
   "source": [
    "import pandas as pd\n",
    "import numpy as np\n",
    "import seaborn as sns\n",
    "import matplotlib.pyplot as plt\n",
    "from sklearn import preprocessing\n",
    "from sklearn.model_selection import train_test_split\n",
    "from sklearn.linear_model import HuberRegressor\n",
    "from sklearn.linear_model import Ridge\n",
    "from sklearn.metrics import mean_squared_error\n",
    "from sklearn.metrics import r2_score\n",
    "from matplotlib.lines import Line2D"
   ]
  },
  {
   "cell_type": "markdown",
   "metadata": {},
   "source": [
    "Cчитаем excel файл, прикрепеленный в приложении"
   ]
  },
  {
   "cell_type": "code",
   "execution_count": 8,
   "metadata": {},
   "outputs": [],
   "source": [
    "data = pd.read_excel('Kearney_case.xlsx')\n",
    "data = data[:-1]"
   ]
  },
  {
   "cell_type": "markdown",
   "metadata": {},
   "source": [
    "Переформатируем столбец с цен на природный газ, чтобы в не остались только значения"
   ]
  },
  {
   "cell_type": "code",
   "execution_count": 9,
   "metadata": {},
   "outputs": [],
   "source": [
    "data['LNG price'] = data['LNG price'].apply(lambda x: float(x.split(',')[1]))"
   ]
  },
  {
   "cell_type": "code",
   "execution_count": 10,
   "metadata": {},
   "outputs": [
    {
     "data": {
      "text/html": [
       "<div>\n",
       "<style scoped>\n",
       "    .dataframe tbody tr th:only-of-type {\n",
       "        vertical-align: middle;\n",
       "    }\n",
       "\n",
       "    .dataframe tbody tr th {\n",
       "        vertical-align: top;\n",
       "    }\n",
       "\n",
       "    .dataframe thead th {\n",
       "        text-align: right;\n",
       "    }\n",
       "</style>\n",
       "<table border=\"1\" class=\"dataframe\">\n",
       "  <thead>\n",
       "    <tr style=\"text-align: right;\">\n",
       "      <th></th>\n",
       "      <th>Date</th>\n",
       "      <th>LNG price</th>\n",
       "      <th>Oil price</th>\n",
       "      <th>Urea price</th>\n",
       "    </tr>\n",
       "  </thead>\n",
       "  <tbody>\n",
       "    <tr>\n",
       "      <th>0</th>\n",
       "      <td>Jan 1997</td>\n",
       "      <td>5.43</td>\n",
       "      <td>24.15</td>\n",
       "      <td>173.50</td>\n",
       "    </tr>\n",
       "    <tr>\n",
       "      <th>1</th>\n",
       "      <td>Feb 1997</td>\n",
       "      <td>2.95</td>\n",
       "      <td>20.30</td>\n",
       "      <td>160.38</td>\n",
       "    </tr>\n",
       "    <tr>\n",
       "      <th>2</th>\n",
       "      <td>Mar 1997</td>\n",
       "      <td>3.05</td>\n",
       "      <td>20.41</td>\n",
       "      <td>148.00</td>\n",
       "    </tr>\n",
       "    <tr>\n",
       "      <th>3</th>\n",
       "      <td>Apr 1997</td>\n",
       "      <td>3.57</td>\n",
       "      <td>20.21</td>\n",
       "      <td>135.00</td>\n",
       "    </tr>\n",
       "    <tr>\n",
       "      <th>4</th>\n",
       "      <td>May 1997</td>\n",
       "      <td>3.69</td>\n",
       "      <td>20.88</td>\n",
       "      <td>113.13</td>\n",
       "    </tr>\n",
       "    <tr>\n",
       "      <th>...</th>\n",
       "      <td>...</td>\n",
       "      <td>...</td>\n",
       "      <td>...</td>\n",
       "      <td>...</td>\n",
       "    </tr>\n",
       "    <tr>\n",
       "      <th>284</th>\n",
       "      <td>Sep 2020</td>\n",
       "      <td>1.69</td>\n",
       "      <td>40.22</td>\n",
       "      <td>250.50</td>\n",
       "    </tr>\n",
       "    <tr>\n",
       "      <th>285</th>\n",
       "      <td>Oct 2020</td>\n",
       "      <td>3.08</td>\n",
       "      <td>35.79</td>\n",
       "      <td>245.00</td>\n",
       "    </tr>\n",
       "    <tr>\n",
       "      <th>286</th>\n",
       "      <td>Nov 2020</td>\n",
       "      <td>2.94</td>\n",
       "      <td>45.34</td>\n",
       "      <td>245.00</td>\n",
       "    </tr>\n",
       "    <tr>\n",
       "      <th>287</th>\n",
       "      <td>Dec 2020</td>\n",
       "      <td>2.40</td>\n",
       "      <td>48.52</td>\n",
       "      <td>245.00</td>\n",
       "    </tr>\n",
       "    <tr>\n",
       "      <th>288</th>\n",
       "      <td>Jan 2021</td>\n",
       "      <td>2.71</td>\n",
       "      <td>52.20</td>\n",
       "      <td>265.00</td>\n",
       "    </tr>\n",
       "  </tbody>\n",
       "</table>\n",
       "<p>289 rows × 4 columns</p>\n",
       "</div>"
      ],
      "text/plain": [
       "         Date  LNG price  Oil price  Urea price\n",
       "0    Jan 1997       5.43      24.15      173.50\n",
       "1    Feb 1997       2.95      20.30      160.38\n",
       "2    Mar 1997       3.05      20.41      148.00\n",
       "3    Apr 1997       3.57      20.21      135.00\n",
       "4    May 1997       3.69      20.88      113.13\n",
       "..        ...        ...        ...         ...\n",
       "284  Sep 2020       1.69      40.22      250.50\n",
       "285  Oct 2020       3.08      35.79      245.00\n",
       "286  Nov 2020       2.94      45.34      245.00\n",
       "287  Dec 2020       2.40      48.52      245.00\n",
       "288  Jan 2021       2.71      52.20      265.00\n",
       "\n",
       "[289 rows x 4 columns]"
      ]
     },
     "execution_count": 10,
     "metadata": {},
     "output_type": "execute_result"
    }
   ],
   "source": [
    "data"
   ]
  },
  {
   "cell_type": "markdown",
   "metadata": {},
   "source": [
    "На диаграмме рассеяния покажем зависимость между ценой на нефть и ценой на карбамид (1997 - 2021 гг.)"
   ]
  },
  {
   "cell_type": "code",
   "execution_count": 11,
   "metadata": {},
   "outputs": [
    {
     "data": {
      "image/png": "[encoded data removed]",
      "text/plain": [
       "<Figure size 1440x576 with 1 Axes>"
      ]
     },
     "metadata": {
      "needs_background": "light"
     },
     "output_type": "display_data"
    }
   ],
   "source": [
    "fig, ax = plt.subplots(figsize=(20, 8))\n",
    "plt.title('Диаграмма рассеяния с ценой на нефть и ценой на карбамид')\n",
    "sns.scatterplot(x='Date', y='Urea price',  data=data, color='mediumblue')\n",
    "sns.scatterplot(x='Date', y='Oil price',  data=data, color='lightskyblue')\n",
    "\n",
    "every_nth = 24\n",
    "for n, label in enumerate(ax.xaxis.get_ticklabels()):\n",
    "    if n % every_nth != 0:\n",
    "        label.set_visible(False)\n",
    "\n",
    "plt.xlabel('Date')\n",
    "plt.ylabel('Price')\n",
    "custom = [Line2D([], [], marker='.', color='mediumblue', linestyle='None'),\n",
    "          Line2D([], [], marker='.', color='lightskyblue', linestyle='None')]\n",
    "plt.legend(custom, ['За тонну карбамида', 'За баррель нефти'], loc='upper right')\n",
    "\n",
    "plt.show()"
   ]
  },
  {
   "cell_type": "markdown",
   "metadata": {},
   "source": [
    "Удалим столбец-признак \"Дата\", чтобы он не влиял на обучение модели"
   ]
  },
  {
   "cell_type": "code",
   "execution_count": 12,
   "metadata": {},
   "outputs": [
    {
     "data": {
      "text/html": [
       "<div>\n",
       "<style scoped>\n",
       "    .dataframe tbody tr th:only-of-type {\n",
       "        vertical-align: middle;\n",
       "    }\n",
       "\n",
       "    .dataframe tbody tr th {\n",
       "        vertical-align: top;\n",
       "    }\n",
       "\n",
       "    .dataframe thead th {\n",
       "        text-align: right;\n",
       "    }\n",
       "</style>\n",
       "<table border=\"1\" class=\"dataframe\">\n",
       "  <thead>\n",
       "    <tr style=\"text-align: right;\">\n",
       "      <th></th>\n",
       "      <th>LNG price</th>\n",
       "      <th>Oil price</th>\n",
       "      <th>Urea price</th>\n",
       "    </tr>\n",
       "  </thead>\n",
       "  <tbody>\n",
       "    <tr>\n",
       "      <th>0</th>\n",
       "      <td>5.43</td>\n",
       "      <td>24.15</td>\n",
       "      <td>173.50</td>\n",
       "    </tr>\n",
       "    <tr>\n",
       "      <th>1</th>\n",
       "      <td>2.95</td>\n",
       "      <td>20.30</td>\n",
       "      <td>160.38</td>\n",
       "    </tr>\n",
       "    <tr>\n",
       "      <th>2</th>\n",
       "      <td>3.05</td>\n",
       "      <td>20.41</td>\n",
       "      <td>148.00</td>\n",
       "    </tr>\n",
       "    <tr>\n",
       "      <th>3</th>\n",
       "      <td>3.57</td>\n",
       "      <td>20.21</td>\n",
       "      <td>135.00</td>\n",
       "    </tr>\n",
       "    <tr>\n",
       "      <th>4</th>\n",
       "      <td>3.69</td>\n",
       "      <td>20.88</td>\n",
       "      <td>113.13</td>\n",
       "    </tr>\n",
       "    <tr>\n",
       "      <th>...</th>\n",
       "      <td>...</td>\n",
       "      <td>...</td>\n",
       "      <td>...</td>\n",
       "    </tr>\n",
       "    <tr>\n",
       "      <th>284</th>\n",
       "      <td>1.69</td>\n",
       "      <td>40.22</td>\n",
       "      <td>250.50</td>\n",
       "    </tr>\n",
       "    <tr>\n",
       "      <th>285</th>\n",
       "      <td>3.08</td>\n",
       "      <td>35.79</td>\n",
       "      <td>245.00</td>\n",
       "    </tr>\n",
       "    <tr>\n",
       "      <th>286</th>\n",
       "      <td>2.94</td>\n",
       "      <td>45.34</td>\n",
       "      <td>245.00</td>\n",
       "    </tr>\n",
       "    <tr>\n",
       "      <th>287</th>\n",
       "      <td>2.40</td>\n",
       "      <td>48.52</td>\n",
       "      <td>245.00</td>\n",
       "    </tr>\n",
       "    <tr>\n",
       "      <th>288</th>\n",
       "      <td>2.71</td>\n",
       "      <td>52.20</td>\n",
       "      <td>265.00</td>\n",
       "    </tr>\n",
       "  </tbody>\n",
       "</table>\n",
       "<p>289 rows × 3 columns</p>\n",
       "</div>"
      ],
      "text/plain": [
       "     LNG price  Oil price  Urea price\n",
       "0         5.43      24.15      173.50\n",
       "1         2.95      20.30      160.38\n",
       "2         3.05      20.41      148.00\n",
       "3         3.57      20.21      135.00\n",
       "4         3.69      20.88      113.13\n",
       "..         ...        ...         ...\n",
       "284       1.69      40.22      250.50\n",
       "285       3.08      35.79      245.00\n",
       "286       2.94      45.34      245.00\n",
       "287       2.40      48.52      245.00\n",
       "288       2.71      52.20      265.00\n",
       "\n",
       "[289 rows x 3 columns]"
      ]
     },
     "execution_count": 12,
     "metadata": {},
     "output_type": "execute_result"
    }
   ],
   "source": [
    "data = data.drop('Date', axis=1)\n",
    "data"
   ]
  },
  {
   "cell_type": "markdown",
   "metadata": {},
   "source": [
    "Покажем на матрице корреляций зависимость между признаками"
   ]
  },
  {
   "cell_type": "code",
   "execution_count": 13,
   "metadata": {},
   "outputs": [
    {
     "data": {
      "image/png": "[encoded data removed]",
      "text/plain": [
       "<Figure size 864x576 with 2 Axes>"
      ]
     },
     "metadata": {
      "needs_background": "light"
     },
     "output_type": "display_data"
    }
   ],
   "source": [
    "plt.figure(figsize=(12, 8))\n",
    "heatmap = sns.heatmap(data.corr(), vmin=-1, vmax=1, annot=True, cmap='Greens_r')\n",
    "heatmap.set_title('Матрица корреляций');"
   ]
  },
  {
   "cell_type": "markdown",
   "metadata": {},
   "source": [
    "Введем матрицу объект-признак X и целевую переменную y"
   ]
  },
  {
   "cell_type": "code",
   "execution_count": 16,
   "metadata": {},
   "outputs": [],
   "source": [
    "y = data['Urea price']\n",
    "X = data[['LNG price', 'Oil price']]"
   ]
  },
  {
   "cell_type": "markdown",
   "metadata": {},
   "source": [
    "Разделим выборку на обучающую и тестовую и нормализуем признаки"
   ]
  },
  {
   "cell_type": "code",
   "execution_count": 17,
   "metadata": {},
   "outputs": [],
   "source": [
    "X_train, X_test, y_train, y_test = train_test_split(X, y, train_size=0.8, random_state=21)\n",
    "\n",
    "normalizer = preprocessing.StandardScaler()\n",
    "\n",
    "X_train_norm = normalizer.fit_transform(X_train)\n",
    "X_test_norm = normalizer.transform(X_test)"
   ]
  },
  {
   "cell_type": "markdown",
   "metadata": {},
   "source": [
    "Обучим модель и посчитаем MSE и R-square для полученных коэффициентов"
   ]
  },
  {
   "cell_type": "code",
   "execution_count": 18,
   "metadata": {},
   "outputs": [
    {
     "name": "stdout",
     "output_type": "stream",
     "text": [
      "R-square: 0.7182803675891314\n",
      "MSE на трейне 4444.424852769651\n",
      "MSE на тесте 3770.9891040941184\n"
     ]
    }
   ],
   "source": [
    "reg = HuberRegressor().fit(X_train, y_train)\n",
    "\n",
    "y_pred_train = reg.predict(X_train) \n",
    "y_pred_test = reg.predict(X_test)\n",
    "\n",
    "print('R-square:', reg.score(X_train, y_train))\n",
    "print('MSE на трейне', mean_squared_error(y_train, y_pred_train))\n",
    "print('MSE на тесте', mean_squared_error(y_test, y_pred_test))"
   ]
  },
  {
   "cell_type": "code",
   "execution_count": 19,
   "metadata": {},
   "outputs": [
    {
     "name": "stdout",
     "output_type": "stream",
     "text": [
      "R-square: 0.7182776294070957\n",
      "MSE на трейне 4444.468050484296\n",
      "MSE на тесте 3770.9828817736484\n"
     ]
    }
   ],
   "source": [
    "reg_norm = HuberRegressor().fit(X_train_norm, y_train)\n",
    "\n",
    "y_pred_train = reg_norm.predict(X_train_norm) \n",
    "y_pred_test = reg_norm.predict(X_test_norm)\n",
    "\n",
    "print('R-square:', reg_norm.score(X_train_norm, y_train))\n",
    "print('MSE на трейне', mean_squared_error(y_train, y_pred_train))\n",
    "print('MSE на тесте', mean_squared_error(y_test, y_pred_test))"
   ]
  },
  {
   "cell_type": "markdown",
   "metadata": {},
   "source": [
    "Коэффициенты, полученные в модели"
   ]
  },
  {
   "cell_type": "code",
   "execution_count": 20,
   "metadata": {},
   "outputs": [
    {
     "data": {
      "text/plain": [
       "({'LNG price': -2.494276121849734, 'Oil price': 3.5418970005013017},\n",
       " 39.40676084541214)"
      ]
     },
     "execution_count": 20,
     "metadata": {},
     "output_type": "execute_result"
    }
   ],
   "source": [
    "dict(zip(X.columns, reg.coef_)), reg.intercept_"
   ]
  },
  {
   "cell_type": "code",
   "execution_count": 21,
   "metadata": {},
   "outputs": [],
   "source": [
    "LNG_coef = reg.coef_[0]\n",
    "Oil_coef = reg.coef_[1]"
   ]
  },
  {
   "cell_type": "code",
   "execution_count": 22,
   "metadata": {},
   "outputs": [
    {
     "data": {
      "text/plain": [
       "({'LNG price': -7.675047677270762, 'Oil price': 102.57123600963668},\n",
       " 224.35632998632624)"
      ]
     },
     "execution_count": 22,
     "metadata": {},
     "output_type": "execute_result"
    }
   ],
   "source": [
    "dict(zip(X.columns, reg_norm.coef_)), reg_norm.intercept_"
   ]
  },
  {
   "cell_type": "markdown",
   "metadata": {},
   "source": [
    "Зафиксируем временной горизонт прогноза: 2021 - 2051"
   ]
  },
  {
   "cell_type": "code",
   "execution_count": 23,
   "metadata": {},
   "outputs": [],
   "source": [
    "forecast_horizon = np.arange(2021, 2051, 1)"
   ]
  },
  {
   "cell_type": "markdown",
   "metadata": {},
   "source": [
    "Зафиксируем прогноз на 5 лет, приведенный в кейсе (2021 - 2025 гг.)"
   ]
  },
  {
   "cell_type": "code",
   "execution_count": 24,
   "metadata": {},
   "outputs": [],
   "source": [
    "case_forecast_urea = np.array([218, 235, 254, 263, 278])\n",
    "case_forecast_ammonia = np.array([221, 248, 237, 261, 264])"
   ]
  },
  {
   "cell_type": "markdown",
   "metadata": {},
   "source": [
    "Выведем вектор цен (прогнозов) для базового сценария (предельная цена на нефть = 65)"
   ]
  },
  {
   "cell_type": "code",
   "execution_count": 137,
   "metadata": {},
   "outputs": [],
   "source": [
    "np.random.seed(12265)"
   ]
  },
  {
   "cell_type": "code",
   "execution_count": 512,
   "metadata": {},
   "outputs": [],
   "source": [
    "base_trace = []\n",
    "base_current = case_forecast_urea[-1] \n",
    "\n",
    "base_limit = 65 * Oil_coef + LNG_coef * 3 + reg.intercept_\n",
    "for year in range(2026, 2051):\n",
    "    base_current = base_current + np.random.uniform(-0.2, 0.5) * (base_limit - base_current)\n",
    "    base_trace.append(base_current)"
   ]
  },
  {
   "cell_type": "code",
   "execution_count": 529,
   "metadata": {},
   "outputs": [
    {
     "data": {
      "text/plain": [
       "array([221.        , 248.        , 237.        , 261.        ,\n",
       "       264.        , 277.09440209, 277.79877073, 270.03003461,\n",
       "       272.14098728, 272.30507846, 268.58563433, 271.19774752,\n",
       "       264.24696409, 265.53963096, 269.90152402, 262.84012581,\n",
       "       264.61090746, 266.99871752, 268.78913421, 270.24692418,\n",
       "       262.25273063, 268.15065218, 270.63518498, 264.96130821,\n",
       "       270.5030004 , 261.68566371, 275.47359703, 267.94894168,\n",
       "       268.9568667 , 270.60062625])"
      ]
     },
     "execution_count": 529,
     "metadata": {},
     "output_type": "execute_result"
    }
   ],
   "source": [
    "base_ammonia = np.append(case_forecast_ammonia, base_trace + np.random.uniform(-7, 7, 25))\n",
    "base_ammonia"
   ]
  },
  {
   "cell_type": "code",
   "execution_count": 513,
   "metadata": {},
   "outputs": [
    {
     "data": {
      "text/plain": [
       "array([218.        , 235.        , 254.        , 263.        ,\n",
       "       278.        , 275.6059039 , 275.31592038, 276.57790616,\n",
       "       272.52155349, 270.3626718 , 269.8121194 , 269.56381579,\n",
       "       268.83409369, 268.96910848, 268.85824445, 268.52889311,\n",
       "       268.45864985, 268.44751354, 268.52599242, 268.54811671,\n",
       "       268.53174791, 268.62606668, 268.6614404 , 268.70210139,\n",
       "       268.53128398, 268.61781508, 268.54535547, 268.56156785,\n",
       "       268.5238453 , 268.35539337])"
      ]
     },
     "execution_count": 513,
     "metadata": {},
     "output_type": "execute_result"
    }
   ],
   "source": [
    "base_scenario_urea = np.append(case_forecast_urea, base_trace)\n",
    "base_scenario_urea"
   ]
  },
  {
   "cell_type": "markdown",
   "metadata": {},
   "source": [
    "Выведем вектор цен (прогнозов) для хорошего сценария (предельная цена на нефть = 85)"
   ]
  },
  {
   "cell_type": "code",
   "execution_count": 140,
   "metadata": {},
   "outputs": [],
   "source": [
    "good_trace = []\n",
    "good_current = case_forecast_urea[-1] \n",
    "\n",
    "good_limit = 85 * Oil_coef + LNG_coef * 3 + reg.intercept_\n",
    "  \n",
    "for year in range(2026, 2051):\n",
    "    good_current = good_current + np.random.uniform(-0.2, 0.5) * (good_limit - good_current)\n",
    "    good_trace.append(good_current)"
   ]
  },
  {
   "cell_type": "code",
   "execution_count": 141,
   "metadata": {},
   "outputs": [
    {
     "data": {
      "text/plain": [
       "array([221.        , 248.        , 237.        , 261.        ,\n",
       "       264.        , 287.91409972, 295.3927822 , 282.22615744,\n",
       "       279.54538295, 303.82953137, 308.23084381, 319.31132762,\n",
       "       321.70415226, 321.53908097, 321.87501574, 320.98953329,\n",
       "       326.23814011, 331.28382352, 331.05155039, 325.77700464,\n",
       "       330.67307829, 326.38175156, 337.7020956 , 327.0059565 ,\n",
       "       328.32947858, 326.2725309 , 327.97371142, 330.62776233,\n",
       "       334.14564772, 336.76232568])"
      ]
     },
     "execution_count": 141,
     "metadata": {},
     "output_type": "execute_result"
    }
   ],
   "source": [
    "good_ammonia = np.append(case_forecast_ammonia, good_trace + np.random.uniform(-7, 7, 25))\n",
    "good_ammonia"
   ]
  },
  {
   "cell_type": "code",
   "execution_count": 493,
   "metadata": {},
   "outputs": [
    {
     "data": {
      "text/plain": [
       "array([218.        , 235.        , 254.        , 263.        ,\n",
       "       278.        , 269.41218753, 305.02069118, 308.31897729,\n",
       "       307.61560341, 304.28179782, 319.42602367, 321.51719538,\n",
       "       318.60940407, 326.30325012, 327.8129268 , 334.58508401,\n",
       "       334.94766009, 333.85543985, 335.13821336, 334.18879266,\n",
       "       335.17461623, 338.29083328, 338.68995559, 339.73294624,\n",
       "       339.73848794, 339.84998559, 339.92662118, 339.4825378 ,\n",
       "       340.35159587, 340.82610129])"
      ]
     },
     "execution_count": 493,
     "metadata": {},
     "output_type": "execute_result"
    }
   ],
   "source": [
    "good_scenario_urea = np.append(case_forecast_urea, good_trace)\n",
    "good_scenario_urea"
   ]
  },
  {
   "cell_type": "markdown",
   "metadata": {},
   "source": [
    "Выведем вектор цен (прогнозов) для плохого сценария (предельная цена на нефть = 45)"
   ]
  },
  {
   "cell_type": "code",
   "execution_count": 494,
   "metadata": {},
   "outputs": [],
   "source": [
    "bad_trace = []\n",
    "bad_current = case_forecast_urea[-1] \n",
    "\n",
    "bad_limit = 45 * Oil_coef + LNG_coef * 3 + reg.intercept_\n",
    "for year in range(2026, 2051):\n",
    "    bad_current = bad_current + np.random.uniform(-0.2, 0.5) * (bad_limit - bad_current)\n",
    "    bad_trace.append(bad_current)"
   ]
  },
  {
   "cell_type": "code",
   "execution_count": 542,
   "metadata": {},
   "outputs": [
    {
     "data": {
      "text/plain": [
       "array([221.        , 248.        , 237.        , 261.        ,\n",
       "       264.        , 259.64382818, 270.80900948, 267.53412179,\n",
       "       283.7856738 , 277.52240716, 271.11158921, 269.17767675,\n",
       "       255.19418848, 260.49136102, 240.42058445, 226.08038889,\n",
       "       213.71469353, 218.19979376, 215.04671904, 219.8022318 ,\n",
       "       203.77395596, 211.01096475, 201.99998562, 201.93759223,\n",
       "       195.20309696, 195.25509029, 201.47062835, 194.6682395 ,\n",
       "       196.20326045, 195.64105875])"
      ]
     },
     "execution_count": 542,
     "metadata": {},
     "output_type": "execute_result"
    }
   ],
   "source": [
    "bad_ammonia = np.append(case_forecast_ammonia, bad_trace + np.random.uniform(-7, 7, 25))\n",
    "bad_ammonia"
   ]
  },
  {
   "cell_type": "code",
   "execution_count": 495,
   "metadata": {},
   "outputs": [
    {
     "data": {
      "text/plain": [
       "array([218.        , 235.        , 254.        , 263.        ,\n",
       "       278.        , 256.19456398, 265.92889884, 271.21162832,\n",
       "       281.05828826, 277.94667283, 273.75871692, 263.83032599,\n",
       "       257.53884892, 263.06477491, 234.50390998, 225.43675853,\n",
       "       212.03949675, 213.58835299, 217.1186903 , 214.83220613,\n",
       "       207.74944117, 208.59343006, 202.88596155, 198.40099444,\n",
       "       198.0579996 , 198.6220416 , 196.90247088, 195.50323398,\n",
       "       194.88600738, 194.31115267])"
      ]
     },
     "execution_count": 495,
     "metadata": {},
     "output_type": "execute_result"
    }
   ],
   "source": [
    "bad_scenario_urea = np.append(case_forecast_urea, bad_trace)\n",
    "bad_scenario_urea"
   ]
  },
  {
   "cell_type": "markdown",
   "metadata": {},
   "source": [
    "Зафиксируем полученные прогнозы для трех сценариев (это необходимо, так как при прогнозе учитывалась волатильность на цен на нефть в виде равномерно распределенной случайной величины)"
   ]
  },
  {
   "cell_type": "markdown",
   "metadata": {},
   "source": [
    "Базовый сценарий:"
   ]
  },
  {
   "cell_type": "code",
   "execution_count": 148,
   "metadata": {},
   "outputs": [],
   "source": [
    "base_scenario_urea = np.array([218.        , 235.        , 254.        , 263.        ,   # прогноз для карбамида\n",
    "                               278.        , 275.6059039 , 275.31592038, 276.57790616,\n",
    "                               272.52155349, 270.3626718 , 269.8121194 , 269.56381579,\n",
    "                               268.83409369, 268.96910848, 268.85824445, 268.52889311,\n",
    "                               268.45864985, 268.44751354, 268.52599242, 268.54811671,\n",
    "                               268.53174791, 268.62606668, 268.6614404 , 268.70210139,\n",
    "                               268.53128398, 268.61781508, 268.54535547, 268.56156785,\n",
    "                               268.5238453 , 268.35539337])\n",
    "\n",
    "base_ammonia = np.array([221.        , 248.        , 237.        , 261.        ,   # прогноз для аммония\n",
    "                         264.        , 277.09440209, 277.79877073, 270.03003461,\n",
    "                         272.14098728, 272.30507846, 268.58563433, 271.19774752,\n",
    "                         264.24696409, 265.53963096, 269.90152402, 262.84012581,\n",
    "                         264.61090746, 266.99871752, 268.78913421, 270.24692418,\n",
    "                         262.25273063, 268.15065218, 270.63518498, 264.96130821,\n",
    "                         270.5030004 , 261.68566371, 275.47359703, 267.94894168,\n",
    "                         268.9568667 , 270.60062625])"
   ]
  },
  {
   "cell_type": "markdown",
   "metadata": {},
   "source": [
    "Положительный сценарий:"
   ]
  },
  {
   "cell_type": "code",
   "execution_count": 143,
   "metadata": {},
   "outputs": [],
   "source": [
    "good_scenario_urea = np.array([218.        , 235.        , 254.        , 263.        ,   # прогноз для карбамида\n",
    "                               278.        , 269.41218753, 305.02069118, 308.31897729,\n",
    "                               307.61560341, 304.28179782, 319.42602367, 321.51719538,\n",
    "                               318.60940407, 326.30325012, 327.8129268 , 334.58508401,\n",
    "                               334.94766009, 333.85543985, 335.13821336, 334.18879266,\n",
    "                               335.17461623, 338.29083328, 338.68995559, 339.73294624,\n",
    "                               339.73848794, 339.84998559, 339.92662118, 339.4825378 ,\n",
    "                               340.35159587, 340.82610129])\n",
    "\n",
    "\n",
    "good_ammonia = np.array([221.        , 248.        , 237.        , 261.        ,   # прогноз для аммония\n",
    "                         264.        , 274.39228403, 306.25176545, 313.27212954,\n",
    "                         301.04356546, 300.10576635, 323.25986272, 322.0500665 ,\n",
    "                         324.99797129, 325.91138308, 322.11340017, 330.68684739,\n",
    "                         332.43461876, 335.88905624, 341.61896804, 340.2812589 ,\n",
    "                         334.14418132, 337.91099755, 333.86125554, 339.69786993,\n",
    "                         336.91907263, 343.49684372, 336.80313603, 334.24682162,\n",
    "                         343.39211353, 340.75040752])"
   ]
  },
  {
   "cell_type": "markdown",
   "metadata": {},
   "source": [
    "Негативный сценарий"
   ]
  },
  {
   "cell_type": "code",
   "execution_count": 146,
   "metadata": {},
   "outputs": [],
   "source": [
    "bad_scenario_urea = np.array([218.        , 235.        , 254.        , 263.        ,   # прогноз для карбамида\n",
    "                              278.        , 256.19456398, 265.92889884, 271.21162832,\n",
    "                              281.05828826, 277.94667283, 273.75871692, 263.83032599,\n",
    "                              257.53884892, 263.06477491, 234.50390998, 225.43675853,\n",
    "                              212.03949675, 213.58835299, 217.1186903 , 214.83220613,\n",
    "                              207.74944117, 208.59343006, 202.88596155, 198.40099444,\n",
    "                              198.0579996 , 198.6220416 , 196.90247088, 195.50323398,\n",
    "                              194.88600738, 194.31115267])\n",
    "\n",
    "bad_ammonia = np.array([221.        , 248.        , 237.        , 261.        ,   # прогноз для аммония\n",
    "                        264.        , 259.64382818, 270.80900948, 267.53412179,\n",
    "                        283.7856738 , 277.52240716, 271.11158921, 269.17767675,\n",
    "                        255.19418848, 260.49136102, 240.42058445, 226.08038889,\n",
    "                        213.71469353, 218.19979376, 215.04671904, 219.8022318 ,\n",
    "                        203.77395596, 211.01096475, 201.99998562, 201.93759223,\n",
    "                        195.20309696, 195.25509029, 201.47062835, 194.6682395 ,\n",
    "                        196.20326045, 195.64105875])"
   ]
  },
  {
   "cell_type": "code",
   "execution_count": 149,
   "metadata": {},
   "outputs": [
    {
     "data": {
      "image/png": "[encoded data removed]",
      "text/plain": [
       "<Figure size 864x576 with 1 Axes>"
      ]
     },
     "metadata": {
      "needs_background": "light"
     },
     "output_type": "display_data"
    }
   ],
   "source": [
    "xs = forecast_horizon\n",
    "ys = base_scenario_urea\n",
    "yss = base_ammonia\n",
    "plt.figure(figsize=(12, 8))\n",
    "plt.title('Прогноз цен на аммиак и карбамид 2021-2050, базовый сценарий')\n",
    "\n",
    "plt.plot(xs, ys, linestyle='--', marker='o', color='mediumspringgreen')\n",
    "plt.plot(xs, yss, linestyle='--', marker='o', color='royalblue')\n",
    "custom = [Line2D([], [], marker='.', color='mediumspringgreen', linestyle='None'),\n",
    "          Line2D([], [], marker='.', color='royalblue', linestyle='None')]\n",
    "plt.legend(custom, ['Карбамид', 'Аммиак'], loc='upper left');"
   ]
  },
  {
   "cell_type": "code",
   "execution_count": 150,
   "metadata": {},
   "outputs": [
    {
     "data": {
      "image/png": "[encoded data removed]",
      "text/plain": [
       "<Figure size 864x576 with 1 Axes>"
      ]
     },
     "metadata": {
      "needs_background": "light"
     },
     "output_type": "display_data"
    }
   ],
   "source": [
    "xs = forecast_horizon\n",
    "ys = good_scenario_urea\n",
    "yss = good_ammonia\n",
    "plt.figure(figsize=(12, 8))\n",
    "plt.title('Прогноз цен на аммиак и карбамид 2021-2050, позитивный сценарий')\n",
    "\n",
    "plt.plot(xs, ys, linestyle='--', marker='o', color='mediumspringgreen')\n",
    "plt.plot(xs, yss, linestyle='--', marker='o', color='royalblue')\n",
    "custom = [Line2D([], [], marker='.', color='mediumspringgreen', linestyle='None'),\n",
    "          Line2D([], [], marker='.', color='royalblue', linestyle='None')]\n",
    "plt.legend(custom, ['Карбамид', 'Аммиак'], loc='upper left');"
   ]
  },
  {
   "cell_type": "code",
   "execution_count": 151,
   "metadata": {},
   "outputs": [
    {
     "data": {
      "image/png": "[encoded data removed]",
      "text/plain": [
       "<Figure size 864x576 with 1 Axes>"
      ]
     },
     "metadata": {
      "needs_background": "light"
     },
     "output_type": "display_data"
    }
   ],
   "source": [
    "xs = forecast_horizon\n",
    "ys = bad_scenario_urea\n",
    "yss = bad_ammonia\n",
    "plt.figure(figsize=(12, 8))\n",
    "plt.title('Прогноз цен на аммиак и карбамид 2021-2050, негативный сценарий')\n",
    "\n",
    "plt.plot(xs, ys, linestyle='--', marker='o', color='mediumspringgreen')\n",
    "plt.plot(xs, yss, linestyle='--', marker='o', color='royalblue')\n",
    "custom = [Line2D([], [], marker='.', color='mediumspringgreen', linestyle='None'),\n",
    "          Line2D([], [], marker='.', color='royalblue', linestyle='None')]\n",
    "plt.legend(custom, ['Карбамид', 'Аммиак'], loc='upper left');"
   ]
  },
  {
   "cell_type": "markdown",
   "metadata": {},
   "source": [
    "# Прогноз цен по регионам: Азия, Северная Америка, Латинская Америка, Европа"
   ]
  },
  {
   "cell_type": "code",
   "execution_count": 163,
   "metadata": {},
   "outputs": [],
   "source": [
    "data = pd.read_excel('Kearney_case.xlsx')"
   ]
  },
  {
   "cell_type": "markdown",
   "metadata": {},
   "source": [
    "Выведем мировые цены на карбамид в январе 2021"
   ]
  },
  {
   "cell_type": "code",
   "execution_count": 198,
   "metadata": {},
   "outputs": [
    {
     "data": {
      "text/plain": [
       "265.0"
      ]
     },
     "execution_count": 198,
     "metadata": {},
     "output_type": "execute_result"
    }
   ],
   "source": [
    "world_price = float(data[data['Date'] == 'Jan 2021']['Urea price'])\n",
    "world_price"
   ]
  },
  {
   "cell_type": "markdown",
   "metadata": {},
   "source": [
    "Выведем цены на карбамид в азиатском, северо-американском, латино-американском, европейском регионах в январе 2021 "
   ]
  },
  {
   "cell_type": "code",
   "execution_count": 214,
   "metadata": {},
   "outputs": [],
   "source": [
    "Asia_price = 316\n",
    "North_Am_price = 278\n",
    "Europe_price = 270\n",
    "Latin_Am_price = 350"
   ]
  },
  {
   "cell_type": "markdown",
   "metadata": {},
   "source": [
    "Посчитаем отклонение цен на карбамид в отдельном регионе от мировых в январе 2021"
   ]
  },
  {
   "cell_type": "code",
   "execution_count": 215,
   "metadata": {},
   "outputs": [],
   "source": [
    "Asia_deviation = 1 + (Asia_price - world_price) / world_price\n",
    "North_Am_deviation = 1 + (North_Am_price - world_price) / world_price \n",
    "Europe_deviation = 1 + (Europe_price - world_price) / world_price\n",
    "Latin_Am_deviation = 1 + (Latin_Am_price - world_price) / world_price"
   ]
  },
  {
   "cell_type": "markdown",
   "metadata": {},
   "source": [
    "__Выведем прогноз цен по регионам на карбамид__"
   ]
  },
  {
   "cell_type": "markdown",
   "metadata": {},
   "source": [
    "При базовом сценарии"
   ]
  },
  {
   "cell_type": "code",
   "execution_count": 219,
   "metadata": {},
   "outputs": [],
   "source": [
    "Asia_urea_base = Asia_deviation * base_scenario_urea\n",
    "North_Am_urea_base = North_Am_deviation * base_scenario_urea\n",
    "Europe_urea_base = Europe_deviation * base_scenario_urea\n",
    "Latin_Am_urea_base = Latin_Am_deviation * base_scenario_urea"
   ]
  },
  {
   "cell_type": "markdown",
   "metadata": {},
   "source": [
    "При положительном сценарии"
   ]
  },
  {
   "cell_type": "code",
   "execution_count": 225,
   "metadata": {},
   "outputs": [],
   "source": [
    "Asia_urea_good = Asia_deviation * good_scenario_urea\n",
    "North_Am_urea_good = North_Am_deviation * good_scenario_urea\n",
    "Europe_urea_good = Europe_deviation * good_scenario_urea\n",
    "Latin_Am_urea_good = Latin_Am_deviation * good_scenario_urea"
   ]
  },
  {
   "cell_type": "markdown",
   "metadata": {},
   "source": [
    "При негативном сценарии"
   ]
  },
  {
   "cell_type": "code",
   "execution_count": 255,
   "metadata": {},
   "outputs": [],
   "source": [
    "Asia_urea_bad = Asia_deviation * bad_scenario_urea\n",
    "North_Am_urea_bad = North_Am_deviation * bad_scenario_urea\n",
    "Europe_urea_bad = Europe_deviation * bad_scenario_urea\n",
    "Latin_Am_urea_bad = Latin_Am_deviation * bad_scenario_urea"
   ]
  },
  {
   "cell_type": "markdown",
   "metadata": {},
   "source": [
    "Цена на аммиак в Марокко для трех сценариев:"
   ]
  },
  {
   "cell_type": "code",
   "execution_count": null,
   "metadata": {},
   "outputs": [],
   "source": []
  },
  {
   "cell_type": "markdown",
   "metadata": {},
   "source": [
    "# Оценка инвестиционной привлекательности: NPV, IRR, PBP"
   ]
  },
  {
   "cell_type": "markdown",
   "metadata": {},
   "source": [
    "Капитальные затраты - 1.530 млн. долл. США"
   ]
  },
  {
   "cell_type": "code",
   "execution_count": 393,
   "metadata": {},
   "outputs": [],
   "source": [
    "capital_exp = 1530000000"
   ]
  },
  {
   "cell_type": "markdown",
   "metadata": {},
   "source": [
    "Производительность завода, т/год"
   ]
  },
  {
   "cell_type": "code",
   "execution_count": 236,
   "metadata": {},
   "outputs": [],
   "source": [
    "urea_annual = 1460000\n",
    "ammonia_raw_annual = 1100000"
   ]
  },
  {
   "cell_type": "markdown",
   "metadata": {},
   "source": [
    "__Для решения задачи выбора оптимального маршрута, решим уравнение:__\n",
    "\n",
    "\n",
    "$$\\frac{143}{66} \\cdot x + 55000000 = \\frac{294}{66} \\cdot x,$$\n",
    "\n",
    "где  x - количество тонн продукции, которое необходимо произвести, чтобы перевозка в порт Усть-Луга стала более выгодной, чем перевозка в порт Силламяэ,  143 и 294 - размеры тарифов в долларах США для обоих портов, 55 млн - капитальные затраты на расширение мощностей порта Усть-Луга  "
   ]
  },
  {
   "cell_type": "markdown",
   "metadata": {},
   "source": [
    "Решением уравнения является:  $x = 2.40397 \\cdot 10^7$ тонн"
   ]
  },
  {
   "cell_type": "markdown",
   "metadata": {},
   "source": [
    "Известно, что для производства 1 тонны карбамида необходима 0.71 тонн аммиака. При условии, что для ЕвроХима приоритетным является производство карбамида, то количество ежегодно производимой конечной продукции, которая далее будет реализована по рыночной цене:"
   ]
  },
  {
   "cell_type": "code",
   "execution_count": 261,
   "metadata": {},
   "outputs": [
    {
     "name": "stdout",
     "output_type": "stream",
     "text": [
      "63400.0 тонн аммиака в год\n",
      "1460000 тонн карбамида в год\n",
      "1523400.0 всего тонн продукции в год\n"
     ]
    }
   ],
   "source": [
    "ammonia_annual = ammonia_raw_annual - 0.71 * urea_annual\n",
    "total_annual = ammonia_annual + urea_annual\n",
    "print(ammonia_annual, 'тонн аммиака в год')\n",
    "print(urea_annual, 'тонн карбамида в год')\n",
    "print(total_annual, 'всего тонн продукции в год')"
   ]
  },
  {
   "cell_type": "code",
   "execution_count": 300,
   "metadata": {},
   "outputs": [
    {
     "data": {
      "text/plain": [
       "16"
      ]
     },
     "execution_count": 300,
     "metadata": {},
     "output_type": "execute_result"
    }
   ],
   "source": [
    "round(2.40397 * 10 ** 7 / 1500000)"
   ]
  },
  {
   "cell_type": "markdown",
   "metadata": {},
   "source": [
    "Таким образом, если завод будет работать в режиме проектных мощностей более 16 лет, то порт Усть-Луга при прочих равных обладает сравнительным примуществом по отношению к порту Силламяэ (меньшими постоянными и переменными издержками)"
   ]
  },
  {
   "cell_type": "markdown",
   "metadata": {},
   "source": [
    "__Издержки завода__"
   ]
  },
  {
   "cell_type": "markdown",
   "metadata": {},
   "source": [
    "Амортизация начисляется линейным способом в течение 25 лет, USD/год"
   ]
  },
  {
   "cell_type": "code",
   "execution_count": 307,
   "metadata": {},
   "outputs": [],
   "source": [
    "Amort_annual = capital_exp / 25"
   ]
  },
  {
   "cell_type": "markdown",
   "metadata": {},
   "source": [
    "Пошлины на ввоз в каждом регионе: на аммиак - 5.5%, на карбамид - 6.5% от цены"
   ]
  },
  {
   "cell_type": "code",
   "execution_count": 249,
   "metadata": {},
   "outputs": [],
   "source": [
    "duty_urea = 0.065\n",
    "duty_ammonia = 0.055"
   ]
  },
  {
   "cell_type": "markdown",
   "metadata": {},
   "source": [
    "Налог на прибыль - 18%"
   ]
  },
  {
   "cell_type": "code",
   "execution_count": 250,
   "metadata": {},
   "outputs": [],
   "source": [
    "income_tax = 0.18"
   ]
  },
  {
   "cell_type": "markdown",
   "metadata": {},
   "source": [
    "Себестоимость производства аммиака - 139 USD/т, карбамида - 111 USD/т"
   ]
  },
  {
   "cell_type": "code",
   "execution_count": 339,
   "metadata": {},
   "outputs": [],
   "source": [
    "urea_cost = 111\n",
    "ammonia_cost = 139"
   ]
  },
  {
   "cell_type": "markdown",
   "metadata": {},
   "source": [
    "Ставка дисконтирования - 11%"
   ]
  },
  {
   "cell_type": "code",
   "execution_count": 252,
   "metadata": {},
   "outputs": [],
   "source": [
    "r = 0.11"
   ]
  },
  {
   "cell_type": "markdown",
   "metadata": {},
   "source": [
    "Затраты на расширение мощностей порта Усть-Луга, распределенные на весь период"
   ]
  },
  {
   "cell_type": "code",
   "execution_count": 297,
   "metadata": {},
   "outputs": [],
   "source": [
    "capacity_exp = 50000000"
   ]
  },
  {
   "cell_type": "markdown",
   "metadata": {},
   "source": [
    "Затраты на логистику, USD/т:"
   ]
  },
  {
   "cell_type": "code",
   "execution_count": 299,
   "metadata": {},
   "outputs": [
    {
     "name": "stdout",
     "output_type": "stream",
     "text": [
      "4.515151515151516 всего долларов на тонну на логистику\n"
     ]
    }
   ],
   "source": [
    "tariff = 143 / 66\n",
    "car_rental = 56 / 66\n",
    "transshipment = 1.5\n",
    "total_logistic = (tariff + car_rental + transshipment)\n",
    "print(total_logistic, 'всего долларов на тонну на логистику')"
   ]
  },
  {
   "cell_type": "markdown",
   "metadata": {},
   "source": [
    "При расчете размера фрахт использовалась предпосылка о том, что значение, приведенное в слайде рассчитывалось для 33 тонн груза (медианное значение)"
   ]
  },
  {
   "cell_type": "code",
   "execution_count": 301,
   "metadata": {},
   "outputs": [],
   "source": [
    "braz_freicht = (40 + 60) * 0.5 / 33\n",
    "china_freicht = (40 + 50) * 0.5 / 33\n",
    "usa_freicht = (20 + 30) * 0.5 / 33\n",
    "pol_freicht = (30 + 50) * 0.5 / 33"
   ]
  },
  {
   "cell_type": "markdown",
   "metadata": {},
   "source": [
    "Условно-постоянные годовые административные расходы, USD/год"
   ]
  },
  {
   "cell_type": "code",
   "execution_count": 306,
   "metadata": {},
   "outputs": [],
   "source": [
    "admin_exp_annual = 475000000 * 0.013"
   ]
  },
  {
   "cell_type": "markdown",
   "metadata": {},
   "source": [
    "__Выручка завода__"
   ]
  },
  {
   "cell_type": "markdown",
   "metadata": {},
   "source": [
    "Согласно, географии продаж: "
   ]
  },
  {
   "cell_type": "code",
   "execution_count": 271,
   "metadata": {},
   "outputs": [],
   "source": [
    "eu_share = 0.32\n",
    "lat_share = 0.42\n",
    "asia_share = 0.12\n",
    "na_share = 0.04\n",
    "other_share = 0.1"
   ]
  },
  {
   "cell_type": "markdown",
   "metadata": {},
   "source": [
    "Завод выйдет на проектную мощность через год после даты окончания реализации, то есть в 2025 году, поэтому исключим из прогноза цены 2021 - 2024 гг."
   ]
  },
  {
   "cell_type": "code",
   "execution_count": 277,
   "metadata": {},
   "outputs": [],
   "source": [
    "asia_urea_base = Asia_urea_base[4:] \n",
    "na_urea_base = North_Am_urea_base[4:]\n",
    "eu_urea_base = Europe_urea_base[4:]\n",
    "lat_urea_base = Latin_Am_urea_base[4:]\n",
    "\n",
    "asia_urea_good = Asia_urea_good[4:]\n",
    "na_urea_good = North_Am_urea_good[4:]\n",
    "eu_urea_good = Europe_urea_good[4:] \n",
    "lat_urea_good = Latin_Am_urea_good[4:]\n",
    "\n",
    "asia_urea_bad = Asia_urea_bad[4:] \n",
    "na_urea_bad = North_Am_urea_bad[4:] \n",
    "eu_urea_bad = Europe_urea_bad[4:] \n",
    "lat_urea_bad = Latin_Am_urea_bad[4:] "
   ]
  },
  {
   "cell_type": "markdown",
   "metadata": {},
   "source": [
    "Посчитаем выручку завода для трех сценариев (взвешенная сумма * выпуск)"
   ]
  },
  {
   "cell_type": "code",
   "execution_count": 304,
   "metadata": {},
   "outputs": [],
   "source": [
    "income_base = urea_annual * (asia_urea_base * asia_share + na_urea_base * na_share + eu_urea_base * eu_share \\\n",
    "+ lat_urea_base * lat_share + other_share * base_scenario_urea[4:]) + ammonia_annual * base_ammonia[4:]\n",
    "\n",
    "income_good = urea_annual * (asia_urea_good * asia_share + na_urea_good * na_share + eu_urea_good * eu_share \\\n",
    "+ lat_urea_good * lat_share + other_share * good_scenario_urea[4:]) + ammonia_annual * good_ammonia[4:]\n",
    "\n",
    "income_bad = urea_annual * (asia_urea_bad * asia_share + na_urea_bad * na_share + eu_urea_bad * eu_share \\\n",
    "+ lat_urea_bad * lat_share + other_share * bad_scenario_urea[4:]) + ammonia_annual * bad_ammonia[4:]"
   ]
  },
  {
   "cell_type": "code",
   "execution_count": 305,
   "metadata": {},
   "outputs": [
    {
     "name": "stdout",
     "output_type": "stream",
     "text": [
      "Выручка при базовом сценарии:\n",
      "[4.92379669e+08 4.89113693e+08 4.88662205e+08 4.90328852e+08\n",
      " 4.83522500e+08 4.79839180e+08 4.78661404e+08 4.78402179e+08\n",
      " 4.76712986e+08 4.77025944e+08 4.77112806e+08 4.76101612e+08\n",
      " 4.76093697e+08 4.76226031e+08 4.76473816e+08 4.76604093e+08\n",
      " 4.76069255e+08 4.76604558e+08 4.76822599e+08 4.76532444e+08\n",
      " 4.76591529e+08 4.76180559e+08 4.76930740e+08 4.76481415e+08\n",
      " 4.76480777e+08 4.76296780e+08]\n",
      "\n",
      "Выручка при позитивном сценарии:\n",
      "[4.92379669e+08 4.78345285e+08 5.41289285e+08 5.47377555e+08\n",
      " 5.45398831e+08 5.39635425e+08 5.67014297e+08 5.70515471e+08\n",
      " 5.65727304e+08 5.78948944e+08 5.81291122e+08 5.93421451e+08\n",
      " 5.94152607e+08 5.92502892e+08 5.95060920e+08 5.93351705e+08\n",
      " 5.94649302e+08 6.00219787e+08 6.00645909e+08 6.02800447e+08\n",
      " 6.02633753e+08 6.03241550e+08 6.02948288e+08 6.02026416e+08\n",
      " 6.04093137e+08 6.04737504e+08]\n",
      "\n",
      "Выручка при негативном сценарии:\n",
      "[4.92379669e+08 4.54795636e+08 4.72158398e+08 4.80989217e+08\n",
      " 4.98866637e+08 4.93145750e+08 4.85573952e+08 4.68464434e+08\n",
      " 4.56813524e+08 4.66603907e+08 4.16465417e+08 4.00042872e+08\n",
      " 3.76336939e+08 3.79271299e+08 3.85111599e+08 3.81501055e+08\n",
      " 3.68366657e+08 3.70269500e+08 3.59933053e+08 3.52255575e+08\n",
      " 3.51241764e+08 3.52210104e+08 3.49662082e+08 3.46836796e+08\n",
      " 3.45878077e+08 3.44858890e+08]\n",
      "\n"
     ]
    }
   ],
   "source": [
    "print('Выручка при базовом сценарии:', income_base, sep='\\n')\n",
    "print()\n",
    "print('Выручка при позитивном сценарии:', income_good, sep='\\n')\n",
    "print()\n",
    "print('Выручка при негативном сценарии:', income_bad, sep='\\n')\n",
    "print()"
   ]
  },
  {
   "cell_type": "markdown",
   "metadata": {},
   "source": [
    "__Расчет NPV__"
   ]
  },
  {
   "cell_type": "markdown",
   "metadata": {},
   "source": [
    "Расчитаем общие ежегодные издержки для 3 сценариев"
   ]
  },
  {
   "cell_type": "code",
   "execution_count": 394,
   "metadata": {},
   "outputs": [],
   "source": [
    "annual_duty_base = 0.065 * urea_annual * (asia_urea_base * asia_share + na_urea_base * na_share + eu_urea_base * eu_share \\\n",
    "+ lat_urea_base * lat_share + other_share * base_scenario_urea[4:]) + 0.055 * ammonia_annual * base_ammonia[4:]\n",
    "\n",
    "annual_duty_good = 0.065 * urea_annual * (asia_urea_good * asia_share + na_urea_good * na_share + eu_urea_good * eu_share \\\n",
    "+ lat_urea_good * lat_share + other_share * good_scenario_urea[4:]) + 0.055 * ammonia_annual * good_ammonia[4:]\n",
    "\n",
    "annual_duty_bad = 0.065 * urea_annual * (asia_urea_bad * asia_share + na_urea_bad * na_share + eu_urea_bad * eu_share \\\n",
    "+ lat_urea_bad * lat_share + other_share * bad_scenario_urea[4:]) + 0.055 * ammonia_annual * bad_ammonia[4:]\n",
    "\n",
    "annual_total_logistic = total_logistic * 1500000 + 23400 * (294 / 66 + total_logistic - tariff)  \n",
    "\n",
    "annual_freicht = total_annual * (braz_freicht * lat_share + china_freicht * asia_share \\\n",
    "+ usa_freicht * na_share + pol_freicht * eu_share)\n",
    "\n",
    "urea_cost_annual = urea_cost * urea_annual\n",
    "ammonia_cost_annual = ammonia_cost * ammonia_annual\n",
    "\n",
    "total_cost_annual_base = annual_duty_base + annual_total_logistic + annual_freicht \\\n",
    "+ urea_cost_annual + ammonia_cost_annual + Amort_annual + admin_exp_annual\n",
    "\n",
    "total_cost_annual_good = annual_duty_good + annual_total_logistic + annual_freicht \\\n",
    "+ urea_cost_annual + ammonia_cost_annual + Amort_annual + admin_exp_annual\n",
    "\n",
    "total_cost_annual_bad = annual_duty_bad + annual_total_logistic + annual_freicht \\\n",
    "+ urea_cost_annual + ammonia_cost_annual + Amort_annual + admin_exp_annual"
   ]
  },
  {
   "cell_type": "markdown",
   "metadata": {},
   "source": [
    "Расчитаем NPV для 3 сценариев"
   ]
  },
  {
   "cell_type": "code",
   "execution_count": 399,
   "metadata": {},
   "outputs": [],
   "source": [
    "npv_base = -(capital_exp + capacity_exp)\n",
    "npv_good = -(capital_exp + capacity_exp)\n",
    "npv_bad = -(capital_exp + capacity_exp)\n",
    "\n",
    "for period in range(0, 25):\n",
    "    gross_profit_base = income_base[period] - total_cost_annual_base[period]\n",
    "    gross_profit_good = income_good[period] - total_cost_annual_good[period]\n",
    "    gross_profit_bad = income_bad[period] - total_cost_annual_bad[period]\n",
    "    \n",
    "    npv_base = npv_base + gross_profit_base * (1 - income_tax) / (1 + r) ** (period + 1)\n",
    "    npv_good = npv_good + gross_profit_good * (1 - income_tax) / (1 + r) ** (period + 1)\n",
    "    npv_bad = npv_bad + gross_profit_bad * (1 - income_tax) / (1 + r) ** (period + 1)"
   ]
  },
  {
   "cell_type": "code",
   "execution_count": 400,
   "metadata": {},
   "outputs": [
    {
     "data": {
      "text/plain": [
       "252917357.65432492"
      ]
     },
     "execution_count": 400,
     "metadata": {},
     "output_type": "execute_result"
    }
   ],
   "source": [
    "npv_base"
   ]
  },
  {
   "cell_type": "code",
   "execution_count": 401,
   "metadata": {},
   "outputs": [
    {
     "data": {
      "text/plain": [
       "705169038.2333113"
      ]
     },
     "execution_count": 401,
     "metadata": {},
     "output_type": "execute_result"
    }
   ],
   "source": [
    "npv_good"
   ]
  },
  {
   "cell_type": "code",
   "execution_count": 490,
   "metadata": {},
   "outputs": [
    {
     "data": {
      "text/plain": [
       "8299841.6836934695"
      ]
     },
     "execution_count": 490,
     "metadata": {},
     "output_type": "execute_result"
    }
   ],
   "source": [
    "npv_bad"
   ]
  },
  {
   "cell_type": "markdown",
   "metadata": {},
   "source": [
    "__Посмотрим, где функция NPV для трех сценариев меняет знак и найдем приблизительные значения IRR__"
   ]
  },
  {
   "cell_type": "code",
   "execution_count": 492,
   "metadata": {},
   "outputs": [],
   "source": [
    "irr_base = 0.134\n",
    "irr_good = 0.163\n",
    "irr_bad = 0.112"
   ]
  },
  {
   "cell_type": "markdown",
   "metadata": {},
   "source": [
    "__Вычислим срок PBP (срок окупаемости проекта)__"
   ]
  },
  {
   "cell_type": "code",
   "execution_count": 496,
   "metadata": {},
   "outputs": [],
   "source": [
    "pbp_base = 0\n",
    "pbp_good = 0\n",
    "pbp_bad = 0\n",
    "\n",
    "balance_base = -(capital_exp + capacity_exp)\n",
    "balance_good = -(capital_exp + capacity_exp)\n",
    "balance_bad = -(capital_exp + capacity_exp)\n",
    "while True:\n",
    "    balance_base = balance_base + (income_base[pbp_base] - total_cost_annual_base[pbp_base]) * (1 - income_tax) / (1 + r) ** (pbp_base + 1)\n",
    "    if balance_base > 0:\n",
    "        break\n",
    "    pbp_base += 1\n",
    "\n",
    "while True:\n",
    "    balance_good = balance_good + (income_good[pbp_good] - total_cost_annual_good[pbp_good]) * (1 - income_tax) / (1 + r) ** (pbp_good + 1)\n",
    "    if balance_good > 0:\n",
    "        break\n",
    "    pbp_good += 1\n",
    "\n",
    "while True:\n",
    "    balance_bad = balance_bad + (income_bad[pbp_bad] - total_cost_annual_bad[pbp_bad]) * (1 - income_tax) / (1 + r) ** (pbp_bad + 1)\n",
    "    if balance_bad > 0:\n",
    "        break\n",
    "    pbp_bad += 1"
   ]
  },
  {
   "cell_type": "code",
   "execution_count": 497,
   "metadata": {},
   "outputs": [
    {
     "data": {
      "text/plain": [
       "15"
      ]
     },
     "execution_count": 497,
     "metadata": {},
     "output_type": "execute_result"
    }
   ],
   "source": [
    "pbp_base"
   ]
  },
  {
   "cell_type": "code",
   "execution_count": 498,
   "metadata": {},
   "outputs": [
    {
     "data": {
      "text/plain": [
       "10"
      ]
     },
     "execution_count": 498,
     "metadata": {},
     "output_type": "execute_result"
    }
   ],
   "source": [
    "pbp_good"
   ]
  },
  {
   "cell_type": "code",
   "execution_count": 499,
   "metadata": {},
   "outputs": [
    {
     "data": {
      "text/plain": [
       "23"
      ]
     },
     "execution_count": 499,
     "metadata": {},
     "output_type": "execute_result"
    }
   ],
   "source": [
    "pbp_bad"
   ]
  }
 ],
 "metadata": {
  "celltoolbar": "Необработанный формат ячейки",
  "kernelspec": {
   "display_name": "Python 3",
   "language": "python",
   "name": "python3"
  },
  "language_info": {
   "codemirror_mode": {
    "name": "ipython",
    "version": 3
   },
   "file_extension": ".py",
   "mimetype": "text/x-python",
   "name": "python",
   "nbconvert_exporter": "python",
   "pygments_lexer": "ipython3",
   "version": "3.8.5"
  }
 },
 "nbformat": 4,
 "nbformat_minor": 4
}
